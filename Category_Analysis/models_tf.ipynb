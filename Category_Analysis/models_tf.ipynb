{
 "cells": [
  {
   "cell_type": "markdown",
   "metadata": {},
   "source": [
    "***\n",
    "# Tensorflow models\n",
    "In this notebook a simle Fully connected neural network and a bidirectional LSTM are tested.\n",
    "\n",
    "Both models show good training results, but fail at regularization.  This concludes to either not having enough training data, or some other error in the data."
   ]
  },
  {
   "cell_type": "markdown",
   "metadata": {},
   "source": [
    "***\n",
    "## Simple Neural Network with embedding layer"
   ]
  },
  {
   "cell_type": "code",
   "execution_count": 1,
   "metadata": {},
   "outputs": [],
   "source": [
    "import pandas as pd\n",
    "import numpy as np\n",
    "import matplotlib.pyplot as plt\n",
    "\n",
    "# import models\n",
    "import sys\n",
    "sys.path.append('tf_models')\n",
    "from train import train\n",
    "# Add functions path\n",
    "sys.path.append('../Functions')"
   ]
  },
  {
   "cell_type": "code",
   "execution_count": 17,
   "metadata": {},
   "outputs": [],
   "source": [
    "from datasets import load_stratified_dataset\n",
    "from sklearn.model_selection import train_test_split\n",
    "df = load_stratified_dataset(path='../Datasets/dataset_categories/dataset_categories_train.csv', labels='category', samples_per_label=1000, random_seed=10)\n",
    "X_train, X_test, y_train, y_test = train_test_split(df.text, df.category)"
   ]
  },
  {
   "cell_type": "code",
   "execution_count": 3,
   "metadata": {},
   "outputs": [
    {
     "name": "stdout",
     "output_type": "stream",
     "text": [
      "Tensorflow version 2.3.1\n",
      "Load Datasets\n"
     ]
    },
    {
     "data": {
      "text/plain": [
       "(0.9842134118080139, 0.6979695558547974, 0.661142885684967)"
      ]
     },
     "execution_count": 3,
     "metadata": {},
     "output_type": "execute_result"
    }
   ],
   "source": [
    "train(train_data=X_train, train_labels=y_train, test_data=X_test, test_labels=y_test)"
   ]
  },
  {
   "cell_type": "markdown",
   "metadata": {},
   "source": [
    "### Test different sequence lengths"
   ]
  },
  {
   "cell_type": "code",
   "execution_count": 4,
   "metadata": {
    "collapsed": true,
    "jupyter": {
     "outputs_hidden": true,
     "source_hidden": true
    }
   },
   "outputs": [
    {
     "name": "stdout",
     "output_type": "stream",
     "text": [
      "Tensorflow version 2.3.1\n",
      "Load Datasets\n",
      "Tensorflow version 2.3.1\n",
      "Load Datasets\n",
      "Tensorflow version 2.3.1\n",
      "Load Datasets\n",
      "Tensorflow version 2.3.1\n",
      "Load Datasets\n",
      "Tensorflow version 2.3.1\n",
      "Load Datasets\n",
      "Tensorflow version 2.3.1\n",
      "Load Datasets\n",
      "Tensorflow version 2.3.1\n",
      "Load Datasets\n",
      "Tensorflow version 2.3.1\n",
      "Load Datasets\n",
      "Tensorflow version 2.3.1\n",
      "Load Datasets\n",
      "Tensorflow version 2.3.1\n",
      "Load Datasets\n"
     ]
    }
   ],
   "source": [
    "train_acc = []\n",
    "val_acc = []\n",
    "test_acc = []\n",
    "x_value = []\n",
    "for d in np.linspace(10,1000,10):\n",
    "    d = int(d)\n",
    "    print(d, end='\\r')\n",
    "    tr, v, te = train(sequence_length=d, train_data=X_train, train_labels=y_train, test_data=X_test, test_labels=y_test)\n",
    "    train_acc.append(tr)\n",
    "    val_acc.append(v)\n",
    "    test_acc.append(te)\n",
    "    x_value.append(d)"
   ]
  },
  {
   "cell_type": "code",
   "execution_count": 5,
   "metadata": {
    "jupyter": {
     "source_hidden": true
    }
   },
   "outputs": [
    {
     "data": {
      "image/png": "[encoded data removed]",
      "text/plain": [
       "<Figure size 432x288 with 1 Axes>"
      ]
     },
     "metadata": {
      "needs_background": "light"
     },
     "output_type": "display_data"
    }
   ],
   "source": [
    "plt.plot(x_value, train_acc, label='train')\n",
    "plt.plot(x_value, val_acc, label='val')\n",
    "plt.plot(x_value, test_acc, label='test')\n",
    "plt.legend();"
   ]
  },
  {
   "cell_type": "markdown",
   "metadata": {},
   "source": [
    "### Test different embedding dimensions"
   ]
  },
  {
   "cell_type": "code",
   "execution_count": 6,
   "metadata": {
    "collapsed": true,
    "jupyter": {
     "outputs_hidden": true,
     "source_hidden": true
    }
   },
   "outputs": [
    {
     "name": "stdout",
     "output_type": "stream",
     "text": [
      "Tensorflow version 2.3.1\n",
      "Load Datasets\n",
      "Tensorflow version 2.3.1\n",
      "Load Datasets\n",
      "Tensorflow version 2.3.1\n",
      "Load Datasets\n",
      "Tensorflow version 2.3.1\n",
      "Load Datasets\n",
      "Tensorflow version 2.3.1\n",
      "Load Datasets\n",
      "Tensorflow version 2.3.1\n",
      "Load Datasets\n",
      "Tensorflow version 2.3.1\n",
      "Load Datasets\n",
      "Tensorflow version 2.3.1\n",
      "Load Datasets\n",
      "Tensorflow version 2.3.1\n",
      "Load Datasets\n",
      "Tensorflow version 2.3.1\n",
      "Load Datasets\n"
     ]
    }
   ],
   "source": [
    "train_acc = []\n",
    "val_acc = []\n",
    "test_acc = []\n",
    "x_value = []\n",
    "for d in np.linspace(6,30,10):\n",
    "    d = int(d)\n",
    "    print(d, end='\\r')\n",
    "    tr, v, te = train(embedding_dim=d, train_data=X_train, train_labels=y_train, test_data=X_test, test_labels=y_test)\n",
    "    train_acc.append(tr)\n",
    "    val_acc.append(v)\n",
    "    test_acc.append(te)\n",
    "    x_value.append(d)"
   ]
  },
  {
   "cell_type": "code",
   "execution_count": 7,
   "metadata": {
    "jupyter": {
     "source_hidden": true
    }
   },
   "outputs": [
    {
     "data": {
      "image/png": "[encoded data removed]",
      "text/plain": [
       "<Figure size 432x288 with 1 Axes>"
      ]
     },
     "metadata": {
      "needs_background": "light"
     },
     "output_type": "display_data"
    }
   ],
   "source": [
    "plt.plot(x_value, train_acc, label='train')\n",
    "plt.plot(x_value, val_acc, label='val')\n",
    "plt.plot(x_value, test_acc, label='test')\n",
    "plt.legend();"
   ]
  },
  {
   "cell_type": "markdown",
   "metadata": {},
   "source": [
    "### Test different vocab sizes"
   ]
  },
  {
   "cell_type": "code",
   "execution_count": 8,
   "metadata": {
    "collapsed": true,
    "jupyter": {
     "outputs_hidden": true,
     "source_hidden": true
    }
   },
   "outputs": [
    {
     "name": "stdout",
     "output_type": "stream",
     "text": [
      "Tensorflow version 2.3.1\n",
      "Load Datasets\n",
      "Tensorflow version 2.3.1\n",
      "Load Datasets\n",
      "Tensorflow version 2.3.1\n",
      "Load Datasets\n",
      "Tensorflow version 2.3.1\n",
      "Load Datasets\n",
      "Tensorflow version 2.3.1\n",
      "Load Datasets\n",
      "Tensorflow version 2.3.1\n",
      "Load Datasets\n",
      "Tensorflow version 2.3.1\n",
      "Load Datasets\n",
      "Tensorflow version 2.3.1\n",
      "Load Datasets\n",
      "Tensorflow version 2.3.1\n",
      "Load Datasets\n",
      "Tensorflow version 2.3.1\n",
      "Load Datasets\n"
     ]
    }
   ],
   "source": [
    "train_acc = []\n",
    "val_acc = []\n",
    "test_acc = []\n",
    "x_value = []\n",
    "for d in np.linspace(5000,20000,10):\n",
    "    d = int(d)\n",
    "    print(d, end='\\r')\n",
    "    tr, v, te = train(vocab_size=d, train_data=X_train, train_labels=y_train, test_data=X_test, test_labels=y_test)\n",
    "    train_acc.append(tr)\n",
    "    val_acc.append(v)\n",
    "    test_acc.append(te)\n",
    "    x_value.append(d)"
   ]
  },
  {
   "cell_type": "code",
   "execution_count": 9,
   "metadata": {
    "jupyter": {
     "source_hidden": true
    }
   },
   "outputs": [
    {
     "data": {
      "image/png": "[encoded data removed]",
      "text/plain": [
       "<Figure size 432x288 with 1 Axes>"
      ]
     },
     "metadata": {
      "needs_background": "light"
     },
     "output_type": "display_data"
    }
   ],
   "source": [
    "plt.plot(x_value, train_acc, label='train')\n",
    "plt.plot(x_value, val_acc, label='val')\n",
    "plt.plot(x_value, test_acc, label='test')\n",
    "plt.legend();"
   ]
  },
  {
   "cell_type": "markdown",
   "metadata": {},
   "source": [
    "### Test different dropouts"
   ]
  },
  {
   "cell_type": "code",
   "execution_count": 10,
   "metadata": {
    "collapsed": true,
    "jupyter": {
     "outputs_hidden": true,
     "source_hidden": true
    }
   },
   "outputs": [
    {
     "name": "stdout",
     "output_type": "stream",
     "text": [
      "Tensorflow version 2.3.1\n",
      "Load Datasets\n",
      "Tensorflow version 2.3.1\n",
      "Load Datasets\n",
      "Tensorflow version 2.3.1\n",
      "Load Datasets\n",
      "Tensorflow version 2.3.1\n",
      "Load Datasets\n",
      "Tensorflow version 2.3.1\n",
      "Load Datasets\n"
     ]
    }
   ],
   "source": [
    "train_acc = []\n",
    "val_acc = []\n",
    "test_acc = []\n",
    "x_value = []\n",
    "for d in np.linspace(0.1, 0.5, 5):\n",
    "    print(d, end='\\r')\n",
    "    tr, v, te = train(dropout=d, train_data=X_train, train_labels=y_train, test_data=X_test, test_labels=y_test)\n",
    "    train_acc.append(tr)\n",
    "    val_acc.append(v)\n",
    "    test_acc.append(te)\n",
    "    x_value.append(d)"
   ]
  },
  {
   "cell_type": "code",
   "execution_count": 11,
   "metadata": {
    "jupyter": {
     "source_hidden": true
    }
   },
   "outputs": [
    {
     "data": {
      "image/png": "[encoded data removed]",
      "text/plain": [
       "<Figure size 432x288 with 1 Axes>"
      ]
     },
     "metadata": {
      "needs_background": "light"
     },
     "output_type": "display_data"
    }
   ],
   "source": [
    "plt.plot(x_value, train_acc, label='train')\n",
    "plt.plot(x_value, val_acc, label='val')\n",
    "plt.plot(x_value, test_acc, label='test')\n",
    "plt.legend();"
   ]
  },
  {
   "cell_type": "markdown",
   "metadata": {},
   "source": [
    "### Test different regularizations"
   ]
  },
  {
   "cell_type": "code",
   "execution_count": 12,
   "metadata": {
    "collapsed": true,
    "jupyter": {
     "outputs_hidden": true,
     "source_hidden": true
    }
   },
   "outputs": [
    {
     "name": "stdout",
     "output_type": "stream",
     "text": [
      "Tensorflow version 2.3.1\n",
      "Load Datasets\n",
      "Tensorflow version 2.3.1\n",
      "Load Datasets\n",
      "Tensorflow version 2.3.1\n",
      "Load Datasets\n",
      "Tensorflow version 2.3.1\n",
      "Load Datasets\n",
      "Tensorflow version 2.3.1\n",
      "Load Datasets\n"
     ]
    }
   ],
   "source": [
    "train_acc = []\n",
    "val_acc = []\n",
    "test_acc = []\n",
    "x_value = []\n",
    "for d in np.linspace(0, 3, 5):\n",
    "    print(d, end='\\r')\n",
    "    tr, v, te = train(regularization=d, train_data=X_train, train_labels=y_train, test_data=X_test, test_labels=y_test)\n",
    "    train_acc.append(tr)\n",
    "    val_acc.append(v)\n",
    "    test_acc.append(te)\n",
    "    x_value.append(d)"
   ]
  },
  {
   "cell_type": "code",
   "execution_count": 13,
   "metadata": {
    "jupyter": {
     "source_hidden": true
    }
   },
   "outputs": [
    {
     "data": {
      "image/png": "[encoded data removed]",
      "text/plain": [
       "<Figure size 432x288 with 1 Axes>"
      ]
     },
     "metadata": {
      "needs_background": "light"
     },
     "output_type": "display_data"
    }
   ],
   "source": [
    "plt.plot(x_value, train_acc, label='train')\n",
    "plt.plot(x_value, val_acc, label='val')\n",
    "plt.plot(x_value, test_acc, label='test')\n",
    "plt.legend();"
   ]
  },
  {
   "cell_type": "markdown",
   "metadata": {},
   "source": [
    "### Test different node sizes"
   ]
  },
  {
   "cell_type": "code",
   "execution_count": 27,
   "metadata": {
    "collapsed": true,
    "jupyter": {
     "outputs_hidden": true,
     "source_hidden": true
    }
   },
   "outputs": [
    {
     "name": "stdout",
     "output_type": "stream",
     "text": [
      "Tensorflow version 2.3.1\n",
      "Load Datasets\n",
      "Tensorflow version 2.3.1\n",
      "Load Datasets\n",
      "Tensorflow version 2.3.1\n",
      "Load Datasets\n",
      "Tensorflow version 2.3.1\n",
      "Load Datasets\n",
      "Tensorflow version 2.3.1\n",
      "Load Datasets\n",
      "Tensorflow version 2.3.1\n",
      "Load Datasets\n",
      "Tensorflow version 2.3.1\n",
      "Load Datasets\n",
      "Tensorflow version 2.3.1\n",
      "Load Datasets\n",
      "Tensorflow version 2.3.1\n",
      "Load Datasets\n"
     ]
    }
   ],
   "source": [
    "train_acc = []\n",
    "val_acc = []\n",
    "test_acc = []\n",
    "n_value = []\n",
    "d_value = []\n",
    "for n in [16, 64, 128]:\n",
    "    for d in [0.2, 0.4, 0.6]:\n",
    "    \n",
    "        print(str(n) + str(d), end='\\r')\n",
    "        tr, v, te = train(tmp=n, dropout=d, train_data=X_train, train_labels=y_train, test_data=X_test, test_labels=y_test)\n",
    "        train_acc.append(tr)\n",
    "        val_acc.append(v)\n",
    "        test_acc.append(te)\n",
    "        n_value.append(n)\n",
    "        d_value.append(d)"
   ]
  },
  {
   "cell_type": "code",
   "execution_count": 28,
   "metadata": {
    "jupyter": {
     "source_hidden": true
    }
   },
   "outputs": [
    {
     "data": {
      "image/png": "[encoded data removed]",
      "text/plain": [
       "<Figure size 864x432 with 1 Axes>"
      ]
     },
     "metadata": {
      "needs_background": "light"
     },
     "output_type": "display_data"
    }
   ],
   "source": [
    "x = [str(i) for i in zip(d_value, n_value)]\n",
    "plt.figure(figsize=(12,6))\n",
    "plt.plot(x, train_acc, label='train')\n",
    "plt.plot(x, val_acc, label='val')\n",
    "plt.plot(x, test_acc, label='test')\n",
    "plt.legend();"
   ]
  },
  {
   "cell_type": "markdown",
   "metadata": {},
   "source": [
    "### Test different training sizes"
   ]
  },
  {
   "cell_type": "code",
   "execution_count": 14,
   "metadata": {
    "collapsed": true,
    "jupyter": {
     "outputs_hidden": true,
     "source_hidden": true
    }
   },
   "outputs": [
    {
     "name": "stdout",
     "output_type": "stream",
     "text": [
      "Tensorflow version 2.3.1\n",
      "Load Datasets\n",
      "Tensorflow version 2.3.1\n",
      "Load Datasets\n",
      "Tensorflow version 2.3.1\n",
      "Load Datasets\n",
      "Tensorflow version 2.3.1\n",
      "Load Datasets\n",
      "Tensorflow version 2.3.1\n",
      "Load Datasets\n",
      "Tensorflow version 2.3.1\n",
      "Load Datasets\n"
     ]
    }
   ],
   "source": [
    "train_acc = []\n",
    "val_acc = []\n",
    "test_acc = []\n",
    "x_value = []\n",
    "for d in [10, 100, 500, 1000, 5000, 10000]:\n",
    "    print(d, end='\\r')\n",
    "    df = load_stratified_dataset(path='../Datasets/dataset_categories/dataset_big.csv', labels='category', samples_per_label=d, random_seed=10)\n",
    "    X_train, X_test, y_train, y_test = train_test_split(df.text, df.category)\n",
    "\n",
    "    tr, v, te = train(train_data=X_train, train_labels=y_train, test_data=X_test, test_labels=y_test)\n",
    "    train_acc.append(tr)\n",
    "    val_acc.append(v)\n",
    "    test_acc.append(te)\n",
    "    x_value.append(d*7)"
   ]
  },
  {
   "cell_type": "code",
   "execution_count": 15,
   "metadata": {
    "jupyter": {
     "source_hidden": true
    }
   },
   "outputs": [
    {
     "data": {
      "image/png": "[encoded data removed]",
      "text/plain": [
       "<Figure size 432x288 with 1 Axes>"
      ]
     },
     "metadata": {
      "needs_background": "light"
     },
     "output_type": "display_data"
    }
   ],
   "source": [
    "plt.plot(x_value, train_acc, label='train')\n",
    "plt.plot(x_value, val_acc, label='val')\n",
    "plt.plot(x_value, test_acc, label='test')\n",
    "plt.legend();"
   ]
  },
  {
   "cell_type": "markdown",
   "metadata": {},
   "source": [
    "***\n",
    "## Bidirectional LSTM with embedding layer\n",
    "Calculated on Google Colab"
   ]
  },
  {
   "cell_type": "code",
   "execution_count": 1,
   "metadata": {
    "colab": {
     "base_uri": "https://localhost:8080/"
    },
    "executionInfo": {
     "elapsed": 670,
     "status": "ok",
     "timestamp": 1605964580712,
     "user": {
      "displayName": "Fabian März",
      "photoUrl": "",
      "userId": "12627298575665245863"
     },
     "user_tz": -60
    },
    "id": "m8wmHF_zcK_C",
    "outputId": "87f4d30d-37c8-425d-f79b-44853e1a4197"
   },
   "outputs": [
    {
     "name": "stdout",
     "output_type": "stream",
     "text": [
      "Drive already mounted at /content/drive; to attempt to forcibly remount, call drive.mount(\"/content/drive\", force_remount=True).\n"
     ]
    }
   ],
   "source": [
    "from google.colab import drive\n",
    "drive.mount('/content/drive')"
   ]
  },
  {
   "cell_type": "code",
   "execution_count": 2,
   "metadata": {
    "executionInfo": {
     "elapsed": 2434,
     "status": "ok",
     "timestamp": 1605964582484,
     "user": {
      "displayName": "Fabian März",
      "photoUrl": "",
      "userId": "12627298575665245863"
     },
     "user_tz": -60
    },
    "id": "G0RFa4pQb-OY"
   },
   "outputs": [],
   "source": [
    "import pandas as pd\n",
    "import numpy as np\n",
    "import matplotlib.pyplot as plt\n",
    "\n",
    "# import models\n",
    "import sys\n",
    "sys.path.append('/content/drive/MyDrive/Colab Notebooks/my_notebook/tf_models')\n",
    "from train import train\n",
    "# Add functions path\n",
    "sys.path.append('/content/drive/MyDrive/Colab Notebooks/my_notebook/Functions')"
   ]
  },
  {
   "cell_type": "code",
   "execution_count": 3,
   "metadata": {
    "colab": {
     "base_uri": "https://localhost:8080/"
    },
    "executionInfo": {
     "elapsed": 13649,
     "status": "ok",
     "timestamp": 1605964593704,
     "user": {
      "displayName": "Fabian März",
      "photoUrl": "",
      "userId": "12627298575665245863"
     },
     "user_tz": -60
    },
    "id": "sljTrfmzb-OY",
    "outputId": "1bc9b627-ad62-4a8e-add1-1d10db8358f1"
   },
   "outputs": [
    {
     "name": "stdout",
     "output_type": "stream",
     "text": [
      "Smallest sample size in dataset is 12026 samples!\n"
     ]
    }
   ],
   "source": [
    "from datasets import load_stratified_dataset\n",
    "from sklearn.model_selection import train_test_split\n",
    "df = load_stratified_dataset(path='/content/drive/MyDrive/Colab Notebooks/my_notebook/dataset_categories_train.csv', labels='category', samples_per_label=300000, random_seed=10)\n",
    "X_train, X_test, y_train, y_test = train_test_split(df.text_lem, df.category)"
   ]
  },
  {
   "cell_type": "code",
   "execution_count": 4,
   "metadata": {
    "colab": {
     "base_uri": "https://localhost:8080/",
     "height": 1000
    },
    "executionInfo": {
     "elapsed": 490533,
     "status": "ok",
     "timestamp": 1605965070597,
     "user": {
      "displayName": "Fabian März",
      "photoUrl": "",
      "userId": "12627298575665245863"
     },
     "user_tz": -60
    },
    "id": "h8iNEAIIdBm3",
    "outputId": "e7a0fa4a-9a4f-4069-a570-84a9cc5e07bf"
   },
   "outputs": [
    {
     "name": "stdout",
     "output_type": "stream",
     "text": [
      "Tensorflow version 2.3.0\n",
      "Load Datasets\n",
      "Epoch 1/30\n",
      "87/87 [==============================] - 17s 196ms/step - loss: 1.8206 - categorical_accuracy: 0.3234 - val_loss: 1.9474 - val_categorical_accuracy: 0.1625\n",
      "Epoch 2/30\n",
      "87/87 [==============================] - 15s 173ms/step - loss: 1.0086 - categorical_accuracy: 0.6674 - val_loss: 1.8408 - val_categorical_accuracy: 0.1952\n",
      "Epoch 3/30\n",
      "87/87 [==============================] - 15s 174ms/step - loss: 0.7808 - categorical_accuracy: 0.7550 - val_loss: 1.5982 - val_categorical_accuracy: 0.3715\n",
      "Epoch 4/30\n",
      "87/87 [==============================] - 15s 173ms/step - loss: 0.6591 - categorical_accuracy: 0.7932 - val_loss: 1.2496 - val_categorical_accuracy: 0.5658\n",
      "Epoch 5/30\n",
      "87/87 [==============================] - 15s 172ms/step - loss: 0.5698 - categorical_accuracy: 0.8211 - val_loss: 0.9438 - val_categorical_accuracy: 0.6936\n",
      "Epoch 6/30\n",
      "87/87 [==============================] - 15s 173ms/step - loss: 0.5021 - categorical_accuracy: 0.8442 - val_loss: 0.9568 - val_categorical_accuracy: 0.7244\n",
      "Epoch 7/30\n",
      "87/87 [==============================] - 15s 174ms/step - loss: 0.4445 - categorical_accuracy: 0.8592 - val_loss: 0.9353 - val_categorical_accuracy: 0.7503\n",
      "Epoch 8/30\n",
      "87/87 [==============================] - 15s 173ms/step - loss: 0.4011 - categorical_accuracy: 0.8741 - val_loss: 0.9364 - val_categorical_accuracy: 0.7567\n",
      "Epoch 9/30\n",
      "87/87 [==============================] - 15s 173ms/step - loss: 0.3554 - categorical_accuracy: 0.8881 - val_loss: 0.9611 - val_categorical_accuracy: 0.7635\n",
      "Epoch 10/30\n",
      "87/87 [==============================] - 15s 173ms/step - loss: 0.3280 - categorical_accuracy: 0.8972 - val_loss: 1.0059 - val_categorical_accuracy: 0.7601\n",
      "Epoch 11/30\n",
      "87/87 [==============================] - 15s 175ms/step - loss: 0.2948 - categorical_accuracy: 0.9051 - val_loss: 1.0504 - val_categorical_accuracy: 0.7614\n",
      "Epoch 12/30\n",
      "87/87 [==============================] - 15s 173ms/step - loss: 0.2697 - categorical_accuracy: 0.9136 - val_loss: 1.1036 - val_categorical_accuracy: 0.7604\n",
      "Epoch 13/30\n",
      "87/87 [==============================] - 15s 173ms/step - loss: 0.2519 - categorical_accuracy: 0.9185 - val_loss: 1.0818 - val_categorical_accuracy: 0.7640\n",
      "Epoch 14/30\n",
      "87/87 [==============================] - 15s 173ms/step - loss: 0.2363 - categorical_accuracy: 0.9226 - val_loss: 1.0967 - val_categorical_accuracy: 0.7632\n",
      "Epoch 15/30\n",
      "87/87 [==============================] - 15s 173ms/step - loss: 0.2186 - categorical_accuracy: 0.9290 - val_loss: 1.1640 - val_categorical_accuracy: 0.7568\n",
      "Epoch 16/30\n",
      "87/87 [==============================] - 15s 172ms/step - loss: 0.2028 - categorical_accuracy: 0.9350 - val_loss: 1.1576 - val_categorical_accuracy: 0.7542\n",
      "Epoch 17/30\n",
      "87/87 [==============================] - 15s 173ms/step - loss: 0.1952 - categorical_accuracy: 0.9364 - val_loss: 1.1962 - val_categorical_accuracy: 0.7566\n",
      "Epoch 18/30\n",
      "87/87 [==============================] - 15s 173ms/step - loss: 0.1840 - categorical_accuracy: 0.9395 - val_loss: 1.2049 - val_categorical_accuracy: 0.7603\n",
      "Epoch 19/30\n",
      "87/87 [==============================] - 15s 173ms/step - loss: 0.1655 - categorical_accuracy: 0.9452 - val_loss: 1.3132 - val_categorical_accuracy: 0.7539\n",
      "Epoch 20/30\n",
      "87/87 [==============================] - 15s 173ms/step - loss: 0.1562 - categorical_accuracy: 0.9486 - val_loss: 1.3103 - val_categorical_accuracy: 0.7559\n",
      "Epoch 21/30\n",
      "87/87 [==============================] - 15s 173ms/step - loss: 0.1484 - categorical_accuracy: 0.9509 - val_loss: 1.3268 - val_categorical_accuracy: 0.7589\n",
      "Epoch 22/30\n",
      "87/87 [==============================] - 15s 173ms/step - loss: 0.1438 - categorical_accuracy: 0.9526 - val_loss: 1.3669 - val_categorical_accuracy: 0.7563\n",
      "Epoch 23/30\n",
      "87/87 [==============================] - 15s 173ms/step - loss: 0.1466 - categorical_accuracy: 0.9504 - val_loss: 1.3426 - val_categorical_accuracy: 0.7567\n",
      "Epoch 24/30\n",
      "87/87 [==============================] - 15s 173ms/step - loss: 0.1354 - categorical_accuracy: 0.9542 - val_loss: 1.3353 - val_categorical_accuracy: 0.7578\n",
      "Epoch 25/30\n",
      "87/87 [==============================] - 15s 173ms/step - loss: 0.1330 - categorical_accuracy: 0.9556 - val_loss: 1.3202 - val_categorical_accuracy: 0.7604\n",
      "Epoch 26/30\n",
      "87/87 [==============================] - 15s 173ms/step - loss: 0.1269 - categorical_accuracy: 0.9574 - val_loss: 1.3922 - val_categorical_accuracy: 0.7596\n",
      "Epoch 27/30\n",
      "87/87 [==============================] - 15s 173ms/step - loss: 0.1210 - categorical_accuracy: 0.9589 - val_loss: 1.3786 - val_categorical_accuracy: 0.7593\n",
      "Epoch 28/30\n",
      "87/87 [==============================] - 15s 173ms/step - loss: 0.1227 - categorical_accuracy: 0.9590 - val_loss: 1.3701 - val_categorical_accuracy: 0.7601\n",
      "Epoch 29/30\n",
      "87/87 [==============================] - 15s 174ms/step - loss: 0.1151 - categorical_accuracy: 0.9610 - val_loss: 1.3836 - val_categorical_accuracy: 0.7597\n",
      "Epoch 30/30\n",
      "87/87 [==============================] - 15s 173ms/step - loss: 0.1129 - categorical_accuracy: 0.9618 - val_loss: 1.3990 - val_categorical_accuracy: 0.7611\n",
      "42/42 [==============================] - 3s 62ms/step - loss: 1.4135 - categorical_accuracy: 0.7587\n",
      "Loss:  1.413507342338562\n",
      "Accuracy:  0.7587189674377441\n"
     ]
    },
    {
     "data": {
      "image/png": "[encoded data removed]",
      "text/plain": [
       "<Figure size 1080x432 with 2 Axes>"
      ]
     },
     "metadata": {
      "needs_background": "light",
      "tags": []
     },
     "output_type": "display_data"
    },
    {
     "data": {
      "text/plain": [
       "(0.9618273973464966, 0.7611002326011658, 0.7587189674377441)"
      ]
     },
     "execution_count": 4,
     "metadata": {
      "tags": []
     },
     "output_type": "execute_result"
    }
   ],
   "source": [
    "train(train_data=X_train, train_labels=y_train, test_data=X_test, test_labels=y_test)"
   ]
  },
  {
   "cell_type": "markdown",
   "metadata": {},
   "source": [
    "### Test different node sizes"
   ]
  },
  {
   "cell_type": "code",
   "execution_count": 7,
   "metadata": {
    "colab": {
     "base_uri": "https://localhost:8080/"
    },
    "collapsed": true,
    "executionInfo": {
     "elapsed": 1561974,
     "status": "ok",
     "timestamp": 1605966885910,
     "user": {
      "displayName": "Fabian März",
      "photoUrl": "",
      "userId": "12627298575665245863"
     },
     "user_tz": -60
    },
    "id": "HM_AFCG-b-OY",
    "jupyter": {
     "outputs_hidden": true,
     "source_hidden": true
    },
    "outputId": "b13d6428-00bf-4830-ee78-a2e690af6f58"
   },
   "outputs": [
    {
     "name": "stdout",
     "output_type": "stream",
     "text": [
      "Tensorflow version 2.3.0\n",
      "Load Datasets\n",
      "Tensorflow version 2.3.0\n",
      "Load Datasets\n",
      "Tensorflow version 2.3.0\n",
      "Load Datasets\n",
      "Tensorflow version 2.3.0\n",
      "Load Datasets\n",
      "Tensorflow version 2.3.0\n",
      "Load Datasets\n"
     ]
    }
   ],
   "source": [
    "train_acc = []\n",
    "val_acc = []\n",
    "test_acc = []\n",
    "x_value = []\n",
    "for d in np.linspace(8,100,5):\n",
    "    d = int(d)\n",
    "    print(d, end='\\r')\n",
    "    tr, v, te = train(tmp=d, train_data=X_train, train_labels=y_train, test_data=X_test, test_labels=y_test)\n",
    "    train_acc.append(tr)\n",
    "    val_acc.append(v)\n",
    "    test_acc.append(te)\n",
    "    x_value.append(d)"
   ]
  },
  {
   "cell_type": "code",
   "execution_count": 8,
   "metadata": {
    "colab": {
     "base_uri": "https://localhost:8080/",
     "height": 265
    },
    "executionInfo": {
     "elapsed": 1560883,
     "status": "ok",
     "timestamp": 1605966885931,
     "user": {
      "displayName": "Fabian März",
      "photoUrl": "",
      "userId": "12627298575665245863"
     },
     "user_tz": -60
    },
    "id": "b_o1zkBOb-Oa",
    "jupyter": {
     "source_hidden": true
    },
    "outputId": "08595ee4-c148-4ffd-fda6-8e61a4f1638f"
   },
   "outputs": [
    {
     "data": {
      "image/png": "[encoded data removed]",
      "text/plain": [
       "<Figure size 432x288 with 1 Axes>"
      ]
     },
     "metadata": {
      "needs_background": "light",
      "tags": []
     },
     "output_type": "display_data"
    }
   ],
   "source": [
    "plt.plot(x_value, train_acc, label='train')\n",
    "plt.plot(x_value, val_acc, label='val')\n",
    "plt.plot(x_value, test_acc, label='test')\n",
    "plt.legend();"
   ]
  },
  {
   "cell_type": "markdown",
   "metadata": {},
   "source": [
    "### Test different dropouts"
   ]
  },
  {
   "cell_type": "code",
   "execution_count": 17,
   "metadata": {
    "colab": {
     "base_uri": "https://localhost:8080/"
    },
    "collapsed": true,
    "executionInfo": {
     "elapsed": 5953670,
     "status": "ok",
     "timestamp": 1605974756188,
     "user": {
      "displayName": "Fabian März",
      "photoUrl": "",
      "userId": "12627298575665245863"
     },
     "user_tz": -60
    },
    "id": "ufLas2rRb-Oa",
    "jupyter": {
     "outputs_hidden": true,
     "source_hidden": true
    },
    "outputId": "cc99ac4d-f41e-44d6-94de-cdf74bdd4511"
   },
   "outputs": [
    {
     "name": "stdout",
     "output_type": "stream",
     "text": [
      "Tensorflow version 2.3.0\n",
      "Load Datasets\n",
      "Tensorflow version 2.3.0\n",
      "Load Datasets\n",
      "Tensorflow version 2.3.0\n",
      "Load Datasets\n",
      "Tensorflow version 2.3.0\n",
      "Load Datasets\n",
      "Tensorflow version 2.3.0\n",
      "Load Datasets\n"
     ]
    }
   ],
   "source": [
    "train_acc = []\n",
    "val_acc = []\n",
    "test_acc = []\n",
    "x_value = []\n",
    "for d in np.linspace(0.1, 0.8, 5):\n",
    "    print(d, end='\\r')\n",
    "    tr, v, te = train(dropout=d, train_data=X_train, train_labels=y_train, test_data=X_test, test_labels=y_test)\n",
    "    train_acc.append(tr)\n",
    "    val_acc.append(v)\n",
    "    test_acc.append(te)\n",
    "    x_value.append(d)"
   ]
  },
  {
   "cell_type": "code",
   "execution_count": 18,
   "metadata": {
    "colab": {
     "base_uri": "https://localhost:8080/",
     "height": 267
    },
    "executionInfo": {
     "elapsed": 5952869,
     "status": "ok",
     "timestamp": 1605974756194,
     "user": {
      "displayName": "Fabian März",
      "photoUrl": "",
      "userId": "12627298575665245863"
     },
     "user_tz": -60
    },
    "id": "zlb4H0hh_CXR",
    "jupyter": {
     "source_hidden": true
    },
    "outputId": "19d140ce-c70b-4700-deb7-80d8b7833858"
   },
   "outputs": [
    {
     "data": {
      "image/png": "[encoded data removed]",
      "text/plain": [
       "<Figure size 432x288 with 1 Axes>"
      ]
     },
     "metadata": {
      "needs_background": "light",
      "tags": []
     },
     "output_type": "display_data"
    }
   ],
   "source": [
    "plt.plot(x_value, train_acc, label='train')\n",
    "plt.plot(x_value, val_acc, label='val')\n",
    "plt.plot(x_value, test_acc, label='test')\n",
    "plt.legend();"
   ]
  },
  {
   "cell_type": "markdown",
   "metadata": {},
   "source": [
    "### Test different Sequence length"
   ]
  },
  {
   "cell_type": "code",
   "execution_count": 19,
   "metadata": {
    "colab": {
     "base_uri": "https://localhost:8080/"
    },
    "collapsed": true,
    "executionInfo": {
     "elapsed": 1900834,
     "status": "ok",
     "timestamp": 1605976657046,
     "user": {
      "displayName": "Fabian März",
      "photoUrl": "",
      "userId": "12627298575665245863"
     },
     "user_tz": -60
    },
    "id": "6cn8bZfG_i_g",
    "jupyter": {
     "outputs_hidden": true,
     "source_hidden": true
    },
    "outputId": "819e6fa6-f82b-4fa6-dd16-5df4e0828386"
   },
   "outputs": [
    {
     "name": "stdout",
     "output_type": "stream",
     "text": [
      "Tensorflow version 2.3.0\n",
      "Load Datasets\n",
      "Tensorflow version 2.3.0\n",
      "Load Datasets\n",
      "Tensorflow version 2.3.0\n",
      "Load Datasets\n",
      "Tensorflow version 2.3.0\n",
      "Load Datasets\n",
      "Tensorflow version 2.3.0\n",
      "Load Datasets\n"
     ]
    }
   ],
   "source": [
    "train_acc = []\n",
    "val_acc = []\n",
    "test_acc = []\n",
    "x_value = []\n",
    "for d in np.linspace(10,3000,5):\n",
    "    d = int(d)\n",
    "    print(d, end='\\r')\n",
    "    tr, v, te = train(sequence_length=d, train_data=X_train, train_labels=y_train, test_data=X_test, test_labels=y_test)\n",
    "    train_acc.append(tr)\n",
    "    val_acc.append(v)\n",
    "    test_acc.append(te)\n",
    "    x_value.append(d)"
   ]
  },
  {
   "cell_type": "code",
   "execution_count": 20,
   "metadata": {
    "colab": {
     "base_uri": "https://localhost:8080/",
     "height": 265
    },
    "executionInfo": {
     "elapsed": 1900855,
     "status": "ok",
     "timestamp": 1605976657085,
     "user": {
      "displayName": "Fabian März",
      "photoUrl": "",
      "userId": "12627298575665245863"
     },
     "user_tz": -60
    },
    "id": "UYZyAqaCJUif",
    "jupyter": {
     "source_hidden": true
    },
    "outputId": "6d8b95da-b0f6-4936-be62-9a562bf929d6"
   },
   "outputs": [
    {
     "data": {
      "image/png": "[encoded data removed]",
      "text/plain": [
       "<Figure size 432x288 with 1 Axes>"
      ]
     },
     "metadata": {
      "needs_background": "light",
      "tags": []
     },
     "output_type": "display_data"
    }
   ],
   "source": [
    "plt.plot(x_value, train_acc, label='train')\n",
    "plt.plot(x_value, val_acc, label='val')\n",
    "plt.plot(x_value, test_acc, label='test')\n",
    "plt.legend();"
   ]
  },
  {
   "cell_type": "markdown",
   "metadata": {},
   "source": [
    "### Test different embedding dimensions"
   ]
  },
  {
   "cell_type": "code",
   "execution_count": 13,
   "metadata": {
    "colab": {
     "base_uri": "https://localhost:8080/"
    },
    "collapsed": true,
    "executionInfo": {
     "elapsed": 3039971,
     "status": "ok",
     "timestamp": 1605971554058,
     "user": {
      "displayName": "Fabian März",
      "photoUrl": "",
      "userId": "12627298575665245863"
     },
     "user_tz": -60
    },
    "id": "1Gz8lGtWJWyv",
    "jupyter": {
     "outputs_hidden": true,
     "source_hidden": true
    },
    "outputId": "c65133e4-3952-4838-8b05-5e5df44a3e9c"
   },
   "outputs": [
    {
     "name": "stdout",
     "output_type": "stream",
     "text": [
      "Tensorflow version 2.3.0\n",
      "Load Datasets\n",
      "Tensorflow version 2.3.0\n",
      "Load Datasets\n",
      "Tensorflow version 2.3.0\n",
      "Load Datasets\n",
      "Tensorflow version 2.3.0\n",
      "Load Datasets\n",
      "Tensorflow version 2.3.0\n",
      "Load Datasets\n"
     ]
    }
   ],
   "source": [
    "train_acc = []\n",
    "val_acc = []\n",
    "test_acc = []\n",
    "x_value = []\n",
    "for d in np.linspace(6,30,5):\n",
    "    d = int(d)\n",
    "    print(d, end='\\r')\n",
    "    tr, v, te = train(embedding_dim=d, train_data=X_train, train_labels=y_train, test_data=X_test, test_labels=y_test)\n",
    "    train_acc.append(tr)\n",
    "    val_acc.append(v)\n",
    "    test_acc.append(te)\n",
    "    x_value.append(d)"
   ]
  },
  {
   "cell_type": "code",
   "execution_count": 14,
   "metadata": {
    "colab": {
     "base_uri": "https://localhost:8080/",
     "height": 265
    },
    "executionInfo": {
     "elapsed": 3039973,
     "status": "ok",
     "timestamp": 1605971554064,
     "user": {
      "displayName": "Fabian März",
      "photoUrl": "",
      "userId": "12627298575665245863"
     },
     "user_tz": -60
    },
    "id": "qKDWAnbuJaC7",
    "jupyter": {
     "source_hidden": true
    },
    "outputId": "7c528a26-80e8-41cb-b503-58c8a7bc3e25"
   },
   "outputs": [
    {
     "data": {
      "image/png": "[encoded data removed]",
      "text/plain": [
       "<Figure size 432x288 with 1 Axes>"
      ]
     },
     "metadata": {
      "needs_background": "light",
      "tags": []
     },
     "output_type": "display_data"
    }
   ],
   "source": [
    "plt.plot(x_value, train_acc, label='train')\n",
    "plt.plot(x_value, val_acc, label='val')\n",
    "plt.plot(x_value, test_acc, label='test')\n",
    "plt.legend();"
   ]
  },
  {
   "cell_type": "markdown",
   "metadata": {},
   "source": [
    "### Test different vocabulary sizes"
   ]
  },
  {
   "cell_type": "code",
   "execution_count": 15,
   "metadata": {
    "colab": {
     "base_uri": "https://localhost:8080/"
    },
    "collapsed": true,
    "executionInfo": {
     "elapsed": 4638174,
     "status": "ok",
     "timestamp": 1605973152269,
     "user": {
      "displayName": "Fabian März",
      "photoUrl": "",
      "userId": "12627298575665245863"
     },
     "user_tz": -60
    },
    "id": "z3ZBZYt9JcZp",
    "jupyter": {
     "outputs_hidden": true,
     "source_hidden": true
    },
    "outputId": "f5ea6462-8d7a-4e07-f745-029737c2508a"
   },
   "outputs": [
    {
     "name": "stdout",
     "output_type": "stream",
     "text": [
      "Tensorflow version 2.3.0\n",
      "Load Datasets\n",
      "Tensorflow version 2.3.0\n",
      "Load Datasets\n",
      "Tensorflow version 2.3.0\n",
      "Load Datasets\n",
      "Tensorflow version 2.3.0\n",
      "Load Datasets\n",
      "Tensorflow version 2.3.0\n",
      "Load Datasets\n"
     ]
    }
   ],
   "source": [
    "train_acc = []\n",
    "val_acc = []\n",
    "test_acc = []\n",
    "x_value = []\n",
    "for d in np.linspace(5000,20000,5):\n",
    "    d = int(d)\n",
    "    print(d, end='\\r')\n",
    "    tr, v, te = train(vocab_size=d, train_data=X_train, train_labels=y_train, test_data=X_test, test_labels=y_test)\n",
    "    train_acc.append(tr)\n",
    "    val_acc.append(v)\n",
    "    test_acc.append(te)\n",
    "    x_value.append(d)"
   ]
  },
  {
   "cell_type": "code",
   "execution_count": 16,
   "metadata": {
    "colab": {
     "base_uri": "https://localhost:8080/",
     "height": 265
    },
    "executionInfo": {
     "elapsed": 4638172,
     "status": "ok",
     "timestamp": 1605973152271,
     "user": {
      "displayName": "Fabian März",
      "photoUrl": "",
      "userId": "12627298575665245863"
     },
     "user_tz": -60
    },
    "id": "4KaA6NadJe_1",
    "jupyter": {
     "source_hidden": true
    },
    "outputId": "25e1b826-9288-4b77-d7c0-2f4eab03fa3c"
   },
   "outputs": [
    {
     "data": {
      "image/png": "[encoded data removed]",
      "text/plain": [
       "<Figure size 432x288 with 1 Axes>"
      ]
     },
     "metadata": {
      "needs_background": "light",
      "tags": []
     },
     "output_type": "display_data"
    }
   ],
   "source": [
    "plt.plot(x_value, train_acc, label='train')\n",
    "plt.plot(x_value, val_acc, label='val')\n",
    "plt.plot(x_value, test_acc, label='test')\n",
    "plt.legend();"
   ]
  },
  {
   "cell_type": "code",
   "execution_count": null,
   "metadata": {},
   "outputs": [],
   "source": []
  }
 ],
 "metadata": {
  "kernelspec": {
   "display_name": "Python 3",
   "language": "python",
   "name": "python3"
  },
  "language_info": {
   "codemirror_mode": {
    "name": "ipython",
    "version": 3
   },
   "file_extension": ".py",
   "mimetype": "text/x-python",
   "name": "python",
   "nbconvert_exporter": "python",
   "pygments_lexer": "ipython3",
   "version": "3.6.10"
  }
 },
 "nbformat": 4,
 "nbformat_minor": 4
}
