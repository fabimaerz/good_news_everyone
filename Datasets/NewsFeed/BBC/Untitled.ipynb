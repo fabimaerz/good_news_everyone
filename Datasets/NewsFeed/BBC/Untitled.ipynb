{
 "cells": [
  {
   "cell_type": "code",
   "execution_count": 118,
   "metadata": {},
   "outputs": [],
   "source": [
    "import requests\n",
    "from datetime import datetime\n",
    "\n",
    "from bs4 import BeautifulSoup, SoupStrainer\n",
    "from urlextract import URLExtract as urlextract\n",
    "extractor = urlextract()"
   ]
  },
  {
   "cell_type": "code",
   "execution_count": 49,
   "metadata": {},
   "outputs": [],
   "source": [
    "# Overview news page\n",
    "news_feed_url = 'https://www.bbc.com/news/10628494'\n",
    "# Categorical new feeds\n",
    "# Top stories\n",
    "top_stories_url = 'http://feeds.bbci.co.uk/news/rss.xml'\n",
    "# World\n",
    "world_url = 'http://feeds.bbci.co.uk/news/world/rss.xml'\n",
    "# Business\n",
    "business_url = 'http://feeds.bbci.co.uk/news/business/rss.xml'\n",
    "# Politics\n",
    "politics_url = 'http://feeds.bbci.co.uk/news/politics/rss.xml'\n",
    "# Health\n",
    "health_url = 'http://feeds.bbci.co.uk/news/health/rss.xml'\n",
    "# Education & Family\n",
    "education_url = 'http://feeds.bbci.co.uk/news/education/rss.xml'\n",
    "# Science & Environment\n",
    "science_url = 'http://feeds.bbci.co.uk/news/science_and_environment/rss.xml'\n",
    "# Technology\n",
    "technology_url = 'http://feeds.bbci.co.uk/news/technology/rss.xml'\n",
    "# Entertainment & Arts\n",
    "entertainment_url = 'http://feeds.bbci.co.uk/news/entertainment_and_arts/rss.xml'"
   ]
  },
  {
   "cell_type": "code",
   "execution_count": 133,
   "metadata": {},
   "outputs": [
    {
     "data": {
      "text/plain": [
       "57"
      ]
     },
     "execution_count": 133,
     "metadata": {},
     "output_type": "execute_result"
    }
   ],
   "source": [
    "# Get news links from feed\n",
    "response = requests.get(top_stories_url)\n",
    "soup = BeautifulSoup(response.text, \"html.parser\")\n",
    "items = soup.findAll('item')\n",
    "\n",
    "urls = [extractor.find_urls(item.text)[0] for item in items]\n",
    "len(urls)"
   ]
  },
  {
   "cell_type": "code",
   "execution_count": 51,
   "metadata": {},
   "outputs": [
    {
     "data": {
      "text/plain": [
       "'https://www.bbc.co.uk/news/uk-54882091'"
      ]
     },
     "execution_count": 51,
     "metadata": {},
     "output_type": "execute_result"
    }
   ],
   "source": [
    "urls[0]"
   ]
  },
  {
   "cell_type": "code",
   "execution_count": 362,
   "metadata": {},
   "outputs": [],
   "source": [
    "# Get content from Url\n",
    "def get_content(url, category):\n",
    "    try:\n",
    "        response = requests.get(url)\n",
    "        soup = BeautifulSoup(response.text, \"html.parser\")\n",
    "        # Get title\n",
    "        title = soup.title.string\n",
    "        # Get article\n",
    "        article = soup.find('article')\n",
    "        # PromoLink if strings are other linked websites\n",
    "        article = ' '.join([text.text for text in article.findAll('p') if 'PromoLink' not in str(text)])\n",
    "        # Get publish date\n",
    "        date_published = str(response.text).split('datePublished', 1)[1].split(',')[0].split('.')[0].split('\"')[-1]\n",
    "        # Save to content\n",
    "        content.append({'title': title,\n",
    "                        'text': article,\n",
    "                        'date_published': date_published,\n",
    "                        'url': url,\n",
    "                        'scrape_date': str(datetime.now()),\n",
    "                        'category': category})\n",
    "    except:\n",
    "        print(url + '\\n could not be loaded')"
   ]
  },
  {
   "cell_type": "code",
   "execution_count": 96,
   "metadata": {},
   "outputs": [],
   "source": [
    "response = requests.get(urls[0])\n",
    "soup = BeautifulSoup(response.text, \"html.parser\")\n",
    "# Get title\n",
    "title = soup.title.string\n",
    "# Get article\n",
    "article = soup.find('article')\n",
    "# PromoLink if strings are other linked websites\n",
    "article = ' '.join([text.text for text in article.findAll('p') if 'PromoLink' not in str(text)])\n",
    "# Get publish date\n",
    "date_published = str(response.text).split('datePublished', 1)[1].split(',')[0].split('.')[0].split('\"')[-1]"
   ]
  },
  {
   "cell_type": "code",
   "execution_count": 4,
   "metadata": {},
   "outputs": [],
   "source": [
    "# Turn content to Dataframe\n",
    "import pandas as pd\n",
    "\n",
    "titles = []\n",
    "contents = []\n",
    "urls = []\n",
    "for title, text, url in content:\n",
    "    titles.append(title)\n",
    "    contents.append(text)\n",
    "    urls.append(url)\n",
    "    \n",
    "df = pd.DataFrame({'title': titles, 'text': contents, 'url': urls})\n",
    "\n"
   ]
  },
  {
   "cell_type": "code",
   "execution_count": 5,
   "metadata": {},
   "outputs": [],
   "source": [
    "# Save dataframes\n",
    "df.to_csv('good_news_network.csv', index=False)"
   ]
  },
  {
   "cell_type": "code",
   "execution_count": 6,
   "metadata": {},
   "outputs": [
    {
     "data": {
      "text/html": [
       "<div>\n",
       "<style scoped>\n",
       "    .dataframe tbody tr th:only-of-type {\n",
       "        vertical-align: middle;\n",
       "    }\n",
       "\n",
       "    .dataframe tbody tr th {\n",
       "        vertical-align: top;\n",
       "    }\n",
       "\n",
       "    .dataframe thead th {\n",
       "        text-align: right;\n",
       "    }\n",
       "</style>\n",
       "<table border=\"1\" class=\"dataframe\">\n",
       "  <thead>\n",
       "    <tr style=\"text-align: right;\">\n",
       "      <th></th>\n",
       "      <th>title</th>\n",
       "      <th>text</th>\n",
       "      <th>url</th>\n",
       "    </tr>\n",
       "  </thead>\n",
       "  <tbody>\n",
       "    <tr>\n",
       "      <th>0</th>\n",
       "      <td>Preemie Born the Size of a Superman Doll Now P...</td>\n",
       "      <td>[A premature baby the size of a Superman actio...</td>\n",
       "      <td>https://www.goodnewsnetwork.org/preemie-takes-...</td>\n",
       "    </tr>\n",
       "    <tr>\n",
       "      <th>1</th>\n",
       "      <td>Mom Shares an 'Optical IIlusion' Photo of Her ...</td>\n",
       "      <td>[A trick of the light can make a really big im...</td>\n",
       "      <td>https://www.goodnewsnetwork.org/optical-illusi...</td>\n",
       "    </tr>\n",
       "    <tr>\n",
       "      <th>2</th>\n",
       "      <td>70-Year-Old Veteran Battling Cancer Hailed as ...</td>\n",
       "      <td>[A 70-year-old Air Force veteran from Salem, I...</td>\n",
       "      <td>https://www.goodnewsnetwork.org/70-year-old-ve...</td>\n",
       "    </tr>\n",
       "    <tr>\n",
       "      <th>3</th>\n",
       "      <td>Kevin Hart Steps in Where Jerry Lewis Left Off...</td>\n",
       "      <td>[Taking over from Jerry Lewis who reigned as t...</td>\n",
       "      <td>https://www.goodnewsnetwork.org/kevin-hart-ina...</td>\n",
       "    </tr>\n",
       "    <tr>\n",
       "      <th>4</th>\n",
       "      <td>World’s Biggest Wildlife Crossing Will Protect...</td>\n",
       "      <td>[Running through the second-largest city in th...</td>\n",
       "      <td>https://www.goodnewsnetwork.org/101-wildlife-m...</td>\n",
       "    </tr>\n",
       "    <tr>\n",
       "      <th>...</th>\n",
       "      <td>...</td>\n",
       "      <td>...</td>\n",
       "      <td>...</td>\n",
       "    </tr>\n",
       "    <tr>\n",
       "      <th>1929</th>\n",
       "      <td>New Research Says That ‘Tickling’ Ear Therapy ...</td>\n",
       "      <td>[A new study says that “tickling” the ear with...</td>\n",
       "      <td>https://www.goodnewsnetwork.org/tickle-therapy...</td>\n",
       "    </tr>\n",
       "    <tr>\n",
       "      <th>1930</th>\n",
       "      <td>Increasing Tree Cover on City Streets May Be L...</td>\n",
       "      <td>[This exciting new Australian study has found ...</td>\n",
       "      <td>https://www.goodnewsnetwork.org/increasing-cit...</td>\n",
       "    </tr>\n",
       "    <tr>\n",
       "      <th>1931</th>\n",
       "      <td>Listen to Actor Danny Trejo Describe How He He...</td>\n",
       "      <td>[Iconic Hollywood actor Danny Trejo has just p...</td>\n",
       "      <td>https://www.goodnewsnetwork.org/danny-trejo-re...</td>\n",
       "    </tr>\n",
       "    <tr>\n",
       "      <th>1932</th>\n",
       "      <td>Man Crafts Special Gift for Young Neighbor Wit...</td>\n",
       "      <td>[Many patriotic Americans can appreciate the s...</td>\n",
       "      <td>https://www.goodnewsnetwork.org/man-crafts-gif...</td>\n",
       "    </tr>\n",
       "    <tr>\n",
       "      <th>1933</th>\n",
       "      <td>Supertramp Singer ‘Gives a Little Bit’ Invitin...</td>\n",
       "      <td>[On World Autism Awareness Day, the legendary ...</td>\n",
       "      <td>https://www.goodnewsnetwork.org/supertramp-sin...</td>\n",
       "    </tr>\n",
       "  </tbody>\n",
       "</table>\n",
       "<p>1934 rows × 3 columns</p>\n",
       "</div>"
      ],
      "text/plain": [
       "                                                  title  \\\n",
       "0     Preemie Born the Size of a Superman Doll Now P...   \n",
       "1     Mom Shares an 'Optical IIlusion' Photo of Her ...   \n",
       "2     70-Year-Old Veteran Battling Cancer Hailed as ...   \n",
       "3     Kevin Hart Steps in Where Jerry Lewis Left Off...   \n",
       "4     World’s Biggest Wildlife Crossing Will Protect...   \n",
       "...                                                 ...   \n",
       "1929  New Research Says That ‘Tickling’ Ear Therapy ...   \n",
       "1930  Increasing Tree Cover on City Streets May Be L...   \n",
       "1931  Listen to Actor Danny Trejo Describe How He He...   \n",
       "1932  Man Crafts Special Gift for Young Neighbor Wit...   \n",
       "1933  Supertramp Singer ‘Gives a Little Bit’ Invitin...   \n",
       "\n",
       "                                                   text  \\\n",
       "0     [A premature baby the size of a Superman actio...   \n",
       "1     [A trick of the light can make a really big im...   \n",
       "2     [A 70-year-old Air Force veteran from Salem, I...   \n",
       "3     [Taking over from Jerry Lewis who reigned as t...   \n",
       "4     [Running through the second-largest city in th...   \n",
       "...                                                 ...   \n",
       "1929  [A new study says that “tickling” the ear with...   \n",
       "1930  [This exciting new Australian study has found ...   \n",
       "1931  [Iconic Hollywood actor Danny Trejo has just p...   \n",
       "1932  [Many patriotic Americans can appreciate the s...   \n",
       "1933  [On World Autism Awareness Day, the legendary ...   \n",
       "\n",
       "                                                    url  \n",
       "0     https://www.goodnewsnetwork.org/preemie-takes-...  \n",
       "1     https://www.goodnewsnetwork.org/optical-illusi...  \n",
       "2     https://www.goodnewsnetwork.org/70-year-old-ve...  \n",
       "3     https://www.goodnewsnetwork.org/kevin-hart-ina...  \n",
       "4     https://www.goodnewsnetwork.org/101-wildlife-m...  \n",
       "...                                                 ...  \n",
       "1929  https://www.goodnewsnetwork.org/tickle-therapy...  \n",
       "1930  https://www.goodnewsnetwork.org/increasing-cit...  \n",
       "1931  https://www.goodnewsnetwork.org/danny-trejo-re...  \n",
       "1932  https://www.goodnewsnetwork.org/man-crafts-gif...  \n",
       "1933  https://www.goodnewsnetwork.org/supertramp-sin...  \n",
       "\n",
       "[1934 rows x 3 columns]"
      ]
     },
     "execution_count": 6,
     "metadata": {},
     "output_type": "execute_result"
    }
   ],
   "source": [
    "df.head()"
   ]
  },
  {
   "cell_type": "code",
   "execution_count": 195,
   "metadata": {},
   "outputs": [
    {
     "data": {
      "text/plain": [
       "datetime.datetime(2020, 11, 12, 11, 36, 40, 151448)"
      ]
     },
     "execution_count": 195,
     "metadata": {},
     "output_type": "execute_result"
    }
   ],
   "source": [
    "now = datetime.now()\n",
    "now"
   ]
  },
  {
   "cell_type": "code",
   "execution_count": 149,
   "metadata": {},
   "outputs": [
    {
     "data": {
      "text/plain": [
       "datetime.timedelta(0, 46, 399193)"
      ]
     },
     "execution_count": 149,
     "metadata": {},
     "output_type": "execute_result"
    }
   ],
   "source": [
    "datetime.now() - now"
   ]
  },
  {
   "cell_type": "code",
   "execution_count": 171,
   "metadata": {},
   "outputs": [
    {
     "data": {
      "text/plain": [
       "'2020-11-11 15:17:27.718664'"
      ]
     },
     "execution_count": 171,
     "metadata": {},
     "output_type": "execute_result"
    }
   ],
   "source": [
    "s = str(datetime.now())\n",
    "s"
   ]
  },
  {
   "cell_type": "code",
   "execution_count": 161,
   "metadata": {},
   "outputs": [],
   "source": [
    "later = datetime.strptime(s.split(' ')[0], '%Y-%m-%d')"
   ]
  },
  {
   "cell_type": "code",
   "execution_count": 162,
   "metadata": {},
   "outputs": [
    {
     "data": {
      "text/plain": [
       "datetime.timedelta(-1, 31990, 818455)"
      ]
     },
     "execution_count": 162,
     "metadata": {},
     "output_type": "execute_result"
    }
   ],
   "source": [
    "later - now"
   ]
  },
  {
   "cell_type": "code",
   "execution_count": 172,
   "metadata": {},
   "outputs": [],
   "source": [
    "now = datetime.strptime(s.split('.')[0], '%Y-%m-%d %H:%M:%S')"
   ]
  },
  {
   "cell_type": "code",
   "execution_count": 194,
   "metadata": {},
   "outputs": [
    {
     "data": {
      "text/plain": [
       "0.0013425925925925925"
      ]
     },
     "execution_count": 194,
     "metadata": {},
     "output_type": "execute_result"
    }
   ],
   "source": [
    "(datetime.now() - now).seconds/(60*60*24)"
   ]
  },
  {
   "cell_type": "code",
   "execution_count": null,
   "metadata": {},
   "outputs": [],
   "source": []
  },
  {
   "cell_type": "code",
   "execution_count": null,
   "metadata": {},
   "outputs": [],
   "source": []
  },
  {
   "cell_type": "markdown",
   "metadata": {},
   "source": [
    "# CNN"
   ]
  },
  {
   "cell_type": "code",
   "execution_count": null,
   "metadata": {},
   "outputs": [],
   "source": [
    "# Urls of feeds\n",
    "news = 'http://rss.cnn.com/rss/edition.rss'\n",
    "latest = 'http://rss.cnn.com/rss/cnn_latest.rss'\n",
    "world = 'http://rss.cnn.com/rss/edition_world.rss'\n",
    "business = 'http://rss.cnn.com/rss/money_news_international.rss'\n",
    "technology = 'http://rss.cnn.com/rss/edition_technology.rss'\n",
    "science = 'http://rss.cnn.com/rss/edition_space.rss'\n",
    "entertainment = 'http://rss.cnn.com/rss/edition_entertainment.rss'\n",
    "sports = 'http://rss.cnn.com/rss/edition_sport.rss'"
   ]
  },
  {
   "cell_type": "code",
   "execution_count": 350,
   "metadata": {},
   "outputs": [],
   "source": [
    "url = 'http://rss.cnn.com/rss/edition_world.rss'\n",
    "#url = 'http://rss.cnn.com/rss/edition.rss'"
   ]
  },
  {
   "cell_type": "code",
   "execution_count": 351,
   "metadata": {},
   "outputs": [],
   "source": [
    "response = requests.get(url)"
   ]
  },
  {
   "cell_type": "code",
   "execution_count": 354,
   "metadata": {},
   "outputs": [],
   "source": [
    "soup = BeautifulSoup(response.text, \"html.parser\")\n",
    "items = soup.findAll('item')\n",
    "\n",
    "# Function to flatten list of lists\n",
    "flatten = lambda t: [item for sublist in t for item in sublist]\n",
    "#urls = [('https://' + extractor.find_urls(item.text)[0].split('https://')[1]) for item in items if len(extractor.find_urls(item.text)) > 0]\n",
    "\n",
    "urls = []\n",
    "for item in items:\n",
    "    # Get all links from item\n",
    "    links = extractor.find_urls(item.text)\n",
    "    # Remove feedburner pages\n",
    "    links = [l for l in links if 'www.cnn.com' in l]\n",
    "    # Check if link in item\n",
    "    if len(links) > 0:\n",
    "        # Sometimes two links are together, split them\n",
    "        if links[0].count('https://') + links[0].count('http://') > 1:\n",
    "            splitted = [('http://' + k) for k in flatten([j.split('http://') for j in flatten([i.split('https://') for i in links])]) if 'www.' in k]\n",
    "            if len(splitted) > 0:\n",
    "                # Remove weekdays from some urls (like Mon, Tue...)\n",
    "                if ',' in splitted[0]:\n",
    "                    splitted[0] = splitted[0][:-4]\n",
    "                urls.append(splitted[0])\n",
    "        else:\n",
    "            urls.append(links[0])\n",
    "            \n",
    "#urls"
   ]
  },
  {
   "cell_type": "code",
   "execution_count": 308,
   "metadata": {},
   "outputs": [],
   "source": []
  },
  {
   "cell_type": "code",
   "execution_count": 356,
   "metadata": {},
   "outputs": [],
   "source": [
    "url = 'https://edition.cnn.com/2020/11/16/politics/election-2020-donald-trump-joe-biden-transition-coronavirus/index.html?utm_source=feedburner&utm_medium=feed&utm_campaign=Feed%3A+rss%2Fcnn_latest+%28RSS%3A+CNN+-+Most+Recent%29'"
   ]
  },
  {
   "cell_type": "code",
   "execution_count": 363,
   "metadata": {},
   "outputs": [
    {
     "name": "stdout",
     "output_type": "stream",
     "text": [
      "https://edition.cnn.com/2020/11/16/politics/election-2020-donald-trump-joe-biden-transition-coronavirus/index.html?utm_source=feedburner&utm_medium=feed&utm_campaign=Feed%3A+rss%2Fcnn_latest+%28RSS%3A+CNN+-+Most+Recent%29\n",
      " could not be loaded\n"
     ]
    }
   ],
   "source": [
    "get_content(url, None)"
   ]
  },
  {
   "cell_type": "code",
   "execution_count": 364,
   "metadata": {},
   "outputs": [],
   "source": [
    "response = requests.get(url)\n",
    "soup = BeautifulSoup(response.text, \"html.parser\")"
   ]
  },
  {
   "cell_type": "code",
   "execution_count": 366,
   "metadata": {},
   "outputs": [
    {
     "data": {
      "text/plain": [
       "\"Donald Trump's failure to work with Joe Biden is becoming more urgent as Covid spreads - CNNPolitics\""
      ]
     },
     "execution_count": 366,
     "metadata": {},
     "output_type": "execute_result"
    }
   ],
   "source": [
    "# Get title\n",
    "title = soup.title.string\n",
    "title"
   ]
  },
  {
   "cell_type": "code",
   "execution_count": 371,
   "metadata": {
    "collapsed": true,
    "jupyter": {
     "outputs_hidden": true
    }
   },
   "outputs": [
    {
     "data": {
      "text/plain": [
       "'Trump\\'s failure to work with Biden is becoming more urgent as Covid spreadsAnalysis by Stephen Collinson, CNNUpdated 0759 GMT (1559 HKT) November 16, 2020 JUST WATCHEDDr. Fauci discusses Trump impeding transition amid pandemicReplayMore Videos ...MUST WATCH (16 Videos)Dr. Fauci discusses Trump impeding transition amid pandemicTrump backtracks after acknowledging that Biden wonAccused \\'dead\\' voter is alive and speaking out Trump doesn\\'t address election defeat at Rose Garden eventFormer CIA director: I do worry what Trump might do in the futureJohn King: If Trump thinks 2016 was a landslide, 2020 is as wellMassive election disinformation campaign connected to Roger StonePolitical world turns to Georgia as Senate races heat upGOP senator-elect flubs 3 branches of governmentTrump appointee breaks with President over his election claimsThomas Friedman on GOP: This is not a political party. It\\'s a cultTrump threatens to deny New Yorkers vaccine. See governor\\'s responseKeilar lays out controversial pasts of Trump\\'s new Pentagon teamDozens of Secret Service officers exposed to Covid-19Keilar calls out McEnany\\'s prop used on Fox NewsNavarro: White House proceeding with second term assumption  (CNN)President Donald Trump is facing a barrage of calls to permit potentially life-saving transition talks between his health officials and incoming President-elect Joe Biden\\'s aides on a fast-worsening pandemic he is continuing to ignore in his obsessive effort to discredit an election that he clearly lost.The increasingly urgent pleas are coming from inside his administration, the President-elect\\'s team and independent public health experts as Covid-19 cases rage out of control countrywide, claiming more than 1,000 US lives a day. More than 246,000 Americans have now died from the disease.But instead of listening or mobilizing to tackle what some medical experts warn is becoming a \"humanitarian\" crisis, Trump spent the weekend during which the US passed 11 million infections amplifying lies and misinformation about his election loss. At one point, he appeared to acknowledge Sunday in a tweet that Biden won, before backtracking with a stream of defiance on Twitter.This came as the nation\\'s top infectious disease expert, Dr. Anthony Fauci, said on CNN\\'s \"State of the Union\" Sunday that \"of course it would be better if we could start working with\" the Biden team that will take office on January 20.As Trump ignores deepening coronavirus crisis, Biden calls for urgent response\"It\\'s almost like passing a baton in a race -- you don\\'t want to stop and then give it to somebody,\" Fauci, who has been marginalized by the outgoing President, told Jake Tapper. \"You want to just essentially keep going. And that is what transition is.\"Read MoreBiden\\'s incoming White House chief of staff Ron Klain said Sunday that the President-elect\\'s team had been unable to talk to current top health officials like Fauci about the pandemic owing to Trump\\'s refusal to trigger ascertainment — the formal process of opening a transition to a new administration.\"Joe Biden\\'s going to become president of the United States in the midst of an ongoing crisis. That has to be a seamless transition,\" Klain said on NBC\\'s \"Meet the Press,\" adding that while the new administration planned to contact top pharmaceutical firms making the vaccine like Pfizer, it was particularly key to get in touch with Department of Health and Human Services officials responsible for rolling it out in the coming months.\"Our experts need to talk to those people as soon as possible so nothing drops in this change of power we\\'re going to have on January 20th,\" Klain said.But the official who is currently most influential with the President, Dr. Scott Atlas, who critics say favors a herd immunity approach that could lead to thousands of deaths, wrote an inflammatory tweet on Sunday that exemplified the White House\\'s contempt for unifying leadership during the pandemic. Atlas called on the people of Michigan to \"rise up\" against new Covid-19 restrictions introduced in schools, theaters and restaurants by Democratic Gov. Gretchen Whitmer -- who was recently the target of an alleged domestic terrorism kidnapping plot. Whitmer said in an interview with CNN\\'s Wolf Blitzer Sunday evening that she would not be \"bullied into not following reputable scientists and medical professionals.\"\\'We need to be prepared\\'Fauci is not the only senior US official calling for transition talks to open. Moncef Slaoui, the official in charge of Trump\\'s vaccine effort, told the Financial Times in an interview that he wanted to reach out to Biden\\'s team, but added that he couldn\\'t do so without White House permission.As the Biden team increases the pressure for the launch of a proper transition -- which includes office space, meetings in government agencies and millions of dollars in government funding -- members of Biden\\'s Covid-19 advisory board spoke in increasingly alarmed terms about the effect of a continued stalemate.Board member Dr. Celine Gounder told CNN on Saturday that the situation was like a terrorist attack or war and there needed to be a smooth handoff. \"We need to be prepared, and in the absence of that critical data, there may be blind spots we\\'re not able to anticipate and that leaves us quite vulnerable.\"Biden TransitionBiden\\'s toughest foreign policy challenge may be regaining allies\\' trustAs Trump refuses to concede, his agencies awkwardly prepare what they can for a Biden transitionAnalysis: Biden has a better shot at riding the economy up now than Obama didMAP: Full election resultsAnother board member, infectious disease expert Michael Osterholm, bemoaned Trump\\'s abdication of the crisis and said leadership would only arrive in January, as he pushed for the immediate opening of contacts between the transition and the White House.\"It\\'s our hope that in the very near future, we can start to collaborate with them,\" he said, warning on CNN on Saturday of a rapid rise in cases over the next month.An independent expert, Dr. Peter Hotez of Baylor College of Medicine, cited research saying that 2,500 Americans could die from Covid-19 every day by January and described the situation as a \"humanitarian catastrophe\" that Trump was making worse.\"I can\\'t think of a more important time in modern American history,\" Hotez told CNN\\'s Ana Cabrera. \"We need a smooth transition. The fact that, this is the time it won\\'t occur, will only mean greater loss of life, so this is incredibly heartbreaking,\" he said. Biden to deliver economic message As Biden prepares for power despite the obstruction of the President, he and Vice President-elect Kamala Harris will speak about the economy in Wilmington, Delaware, on Monday. The President-elect has repeatedly stressed that there will be no long-term rescue for the economy without bringing the virus under control, and he has used his public appearances since the election to plead with Americans to adopt measures like mask wearing that can save lives until Covid-19 vaccines become widely available next year.The pandemic is not the only area where Biden is being deprived of transition privileges usually offered to a President-elect within hours of victory. He still has not been read into America\\'s most closely held secrets in intelligence briefings, for instance. Transition teams are supposed to be able to enter government departments to provide for a trouble-free handover of power at noon on January 20.While much of the rest of the world has moved on and accepted Biden\\'s triumph, and even some Republican senators say that Biden should get intelligence briefings at a minimum, Trump is still fixated on the election.People of color make up nearly half of Biden transition teamFor the first time Sunday, he appeared in a tweet to at least acknowledge that Biden won, blaming his loss on a string of conspiracy theories. He followed up with another tweet refusing to concede and ignoring his failing legal challenges and the reality of Biden\\'s win with several states to spare.Trump played golf twice over the weekend and on Saturday drove past a crowd of supporters protesting the election results in Washington, DC, in between his Twitter rampages. In an interview with CBS \"60 Minutes\" coinciding with the release of his memoir, \"A Promised Land,\" former President Barack Obama compared the behavior of the President to that of a child.\"If my daughters -- in any kind of competition -- pouted and then accused the other side of cheating when they lost, when there was no evidence of it, we\\'d scold them. I think that there has been this sense over the last several years that literally anything goes and is justified in order to get power.\" Biden is trying to get the man he defeated to take action now to try to mitigate the desperate situation he is likely to inherit in January. In a statement on Friday, he called on Trump to concentrate on the emergency at hand and to take urgent action.\"This crisis demands a robust and immediate federal response, which has been woefully lacking. I am the president-elect, but I will not be president until next year,\" Biden said, underscoring the limitations of his position. \"The crisis does not respect dates on the calendar, it is accelerating right now.\"But Trump, who held a press conference on Friday claiming credit for vaccine developments while ignoring the lightning spread of Covid on his watch, appears only to have an interest in one thing: his own diminishing political prospects.'"
      ]
     },
     "execution_count": 371,
     "metadata": {},
     "output_type": "execute_result"
    }
   ],
   "source": [
    "# Get article\n",
    "article = soup.find('article')\n",
    "article.text"
   ]
  },
  {
   "cell_type": "code",
   "execution_count": 374,
   "metadata": {},
   "outputs": [
    {
     "data": {
      "text/plain": [
       "'https://www'"
      ]
     },
     "execution_count": 374,
     "metadata": {},
     "output_type": "execute_result"
    }
   ],
   "source": [
    "# Get publish date\n",
    "date_published = str(response.text).split('datePublished', 1)[1].split(',')[0].split('.')[0].split('\"')[-1]\n",
    "date_published"
   ]
  },
  {
   "cell_type": "code",
   "execution_count": 399,
   "metadata": {},
   "outputs": [
    {
     "data": {
      "text/plain": [
       "'2020-11-16T05:00:13Z'"
      ]
     },
     "execution_count": 399,
     "metadata": {},
     "output_type": "execute_result"
    }
   ],
   "source": [
    "soup.find('meta', property='og:pubdate')['content']"
   ]
  },
  {
   "cell_type": "code",
   "execution_count": null,
   "metadata": {},
   "outputs": [],
   "source": []
  }
 ],
 "metadata": {
  "kernelspec": {
   "display_name": "Python 3",
   "language": "python",
   "name": "python3"
  },
  "language_info": {
   "codemirror_mode": {
    "name": "ipython",
    "version": 3
   },
   "file_extension": ".py",
   "mimetype": "text/x-python",
   "name": "python",
   "nbconvert_exporter": "python",
   "pygments_lexer": "ipython3",
   "version": "3.6.10"
  }
 },
 "nbformat": 4,
 "nbformat_minor": 4
}
