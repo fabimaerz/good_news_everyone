{
 "cells": [
  {
   "cell_type": "code",
   "execution_count": 3,
   "metadata": {},
   "outputs": [
    {
     "name": "stdout",
     "output_type": "stream",
     "text": [
      "Your browser has been opened to visit:\n",
      "\n",
      "    https://accounts.google.com/o/oauth2/auth?client_id=736383071183-1sev6an492g1lh6fa5t75g75j53hof1j.apps.googleusercontent.com&redirect_uri=http%3A%2F%2Flocalhost%3A8080%2F&scope=https%3A%2F%2Fwww.googleapis.com%2Fauth%2Fdrive&access_type=offline&response_type=code\n",
      "\n",
      "Authentication successful.\n"
     ]
    }
   ],
   "source": [
    "# pip install PyDrive\n",
    "\n",
    "\n",
    "from pydrive.auth import GoogleAuth\n",
    "from pydrive.drive import GoogleDrive\n",
    "import os\n",
    "\n",
    "g_login = GoogleAuth()\n",
    "g_login.LocalWebserverAuth()\n",
    "drive = GoogleDrive(g_login)"
   ]
  },
  {
   "cell_type": "code",
   "execution_count": 71,
   "metadata": {},
   "outputs": [],
   "source": [
    "# Get path ID of following path\n",
    "def get_id(path):\n",
    "    fileID = 'root'\n",
    "    for f in path.split('/'):\n",
    "        fileList = drive.ListFile({'q': \"'{}' in parents and trashed=false\".format(fileID)}).GetList()\n",
    "        fileID = None\n",
    "        for file in fileList:\n",
    "            #print('Title: %s, ID: %s' % (file['title'], file['id']))\n",
    "            # Get the folder ID that you want\n",
    "            if(file['title'] == f):\n",
    "                fileID = file['id']\n",
    "\n",
    "    return fileID"
   ]
  },
  {
   "cell_type": "code",
   "execution_count": 72,
   "metadata": {},
   "outputs": [],
   "source": [
    "# Load content of file from drive\n",
    "def get_content(path):\n",
    "    fileID = get_id(path)\n",
    "    gfile = drive.CreateFile({'id': fileID})\n",
    "    return gfile.GetContentString()"
   ]
  },
  {
   "cell_type": "code",
   "execution_count": 94,
   "metadata": {},
   "outputs": [],
   "source": [
    "# Save Content to drive\n",
    "def save_to_file(path, content):\n",
    "    fileID = get_id(path)\n",
    "    # Check if file exits\n",
    "    if fileID != None:\n",
    "        gfile = drive.CreateFile({'id': fileID})\n",
    "        gfile.SetContentString(content)\n",
    "    else:\n",
    "        path, title = path.rsplit('/', 1)\n",
    "        fileID = get_id(path)\n",
    "\n",
    "        gfile = drive.CreateFile({'title': title,\n",
    "                                       'parents': [{'id': fileID}]})\n",
    "        gfile.SetContentString(content)\n",
    "    gfile.Upload()"
   ]
  },
  {
   "cell_type": "code",
   "execution_count": 100,
   "metadata": {},
   "outputs": [],
   "source": [
    "content = get_content('NewsFeed/BBC/count.txt')"
   ]
  },
  {
   "cell_type": "code",
   "execution_count": 101,
   "metadata": {},
   "outputs": [
    {
     "data": {
      "text/plain": [
       "str"
      ]
     },
     "execution_count": 101,
     "metadata": {},
     "output_type": "execute_result"
    }
   ],
   "source": [
    "type(content)"
   ]
  },
  {
   "cell_type": "code",
   "execution_count": 99,
   "metadata": {},
   "outputs": [],
   "source": [
    "save_to_file('NewsFeed/BBC/count.txt', '0')"
   ]
  },
  {
   "cell_type": "code",
   "execution_count": null,
   "metadata": {},
   "outputs": [],
   "source": []
  }
 ],
 "metadata": {
  "kernelspec": {
   "display_name": "Python 3",
   "language": "python",
   "name": "python3"
  },
  "language_info": {
   "codemirror_mode": {
    "name": "ipython",
    "version": 3
   },
   "file_extension": ".py",
   "mimetype": "text/x-python",
   "name": "python",
   "nbconvert_exporter": "python",
   "pygments_lexer": "ipython3",
   "version": "3.6.10"
  }
 },
 "nbformat": 4,
 "nbformat_minor": 4
}
