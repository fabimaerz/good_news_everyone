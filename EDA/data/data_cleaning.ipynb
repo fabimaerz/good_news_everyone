{
 "metadata": {
  "language_info": {
   "codemirror_mode": {
    "name": "ipython",
    "version": 3
   },
   "file_extension": ".py",
   "mimetype": "text/x-python",
   "name": "python",
   "nbconvert_exporter": "python",
   "pygments_lexer": "ipython3",
   "version": "3.8.3-final"
  },
  "orig_nbformat": 2,
  "kernelspec": {
   "name": "python3",
   "display_name": "Python 3"
  }
 },
 "nbformat": 4,
 "nbformat_minor": 2,
 "cells": [
  {
   "cell_type": "code",
   "execution_count": 1,
   "metadata": {},
   "outputs": [],
   "source": [
    "import pandas as pd\n",
    "import numpy as np\n",
    "\n",
    "import sys\n",
    "sys.path.append('../../Functions')"
   ]
  },
  {
   "cell_type": "code",
   "execution_count": 2,
   "metadata": {},
   "outputs": [],
   "source": [
    "df = pd.read_csv('news_actual.csv')"
   ]
  },
  {
   "cell_type": "code",
   "execution_count": 3,
   "metadata": {},
   "outputs": [],
   "source": [
    "df.drop('category', axis=1, inplace=True)"
   ]
  },
  {
   "cell_type": "code",
   "execution_count": 4,
   "metadata": {},
   "outputs": [
    {
     "output_type": "execute_result",
     "data": {
      "text/plain": [
       "                                               title  \\\n",
       "0  Windrush generation: UK 'unlawfully ignored' i...   \n",
       "\n",
       "                                                text       date_published  \\\n",
       "0  The Home Office unlawfully ignored warnings th...  2020-11-25T01:57:07   \n",
       "\n",
       "                                               url  \\\n",
       "0  https://www.bbc.co.uk/news/uk-politics-55065061   \n",
       "\n",
       "                  scrape_date publisher  \n",
       "0  2020-11-25 08:43:09.261271       BBC  "
      ],
      "text/html": "<div>\n<style scoped>\n    .dataframe tbody tr th:only-of-type {\n        vertical-align: middle;\n    }\n\n    .dataframe tbody tr th {\n        vertical-align: top;\n    }\n\n    .dataframe thead th {\n        text-align: right;\n    }\n</style>\n<table border=\"1\" class=\"dataframe\">\n  <thead>\n    <tr style=\"text-align: right;\">\n      <th></th>\n      <th>title</th>\n      <th>text</th>\n      <th>date_published</th>\n      <th>url</th>\n      <th>scrape_date</th>\n      <th>publisher</th>\n    </tr>\n  </thead>\n  <tbody>\n    <tr>\n      <th>0</th>\n      <td>Windrush generation: UK 'unlawfully ignored' i...</td>\n      <td>The Home Office unlawfully ignored warnings th...</td>\n      <td>2020-11-25T01:57:07</td>\n      <td>https://www.bbc.co.uk/news/uk-politics-55065061</td>\n      <td>2020-11-25 08:43:09.261271</td>\n      <td>BBC</td>\n    </tr>\n  </tbody>\n</table>\n</div>"
     },
     "metadata": {},
     "execution_count": 4
    }
   ],
   "source": [
    "df.head(1)"
   ]
  },
  {
   "source": [
    "***\n",
    "## Title"
   ],
   "cell_type": "markdown",
   "metadata": {}
  },
  {
   "cell_type": "code",
   "execution_count": 5,
   "metadata": {
    "tags": []
   },
   "outputs": [],
   "source": [
    "### BBC ###\n",
    "# Remove ending \"- BBC\"\n",
    "df.title = [title.split(' - BBC')[0] for title in df.title]\n",
    "\n",
    "### CNN ###\n",
    "# Remove ending \"- CNN\"\n",
    "df.title = [title.split(' - CNN')[0] for title in df.title]"
   ]
  },
  {
   "source": [
    "***\n",
    "## Text"
   ],
   "cell_type": "markdown",
   "metadata": {}
  },
  {
   "cell_type": "code",
   "execution_count": 6,
   "metadata": {},
   "outputs": [],
   "source": [
    "### CNN ###\n",
    "# Remove intro with authors and co that ends with (CNN *Category*) or just (CNN)\n",
    "df.text = [text.split('(CNN')[1].split(')', 1)[1] if '(CNN' in text else text for text in df.text]\n",
    "# Remove texts with only one sentence\n",
    "df = df[[False if len(text.split(' ')) < 30 else True for text in df.text]]"
   ]
  },
  {
   "source": [
    "***\n",
    "## Add Category"
   ],
   "cell_type": "markdown",
   "metadata": {}
  },
  {
   "cell_type": "code",
   "execution_count": 7,
   "metadata": {},
   "outputs": [],
   "source": [
    "from categorizer import Categorizer\n",
    "\n",
    "categorizer = Categorizer()\n",
    "\n",
    "df['category'] = categorizer.pred(df.text.values)"
   ]
  },
  {
   "cell_type": "code",
   "execution_count": 8,
   "metadata": {},
   "outputs": [
    {
     "output_type": "execute_result",
     "data": {
      "text/plain": [
       "0            politics\n",
       "1       entertainment\n",
       "2            politics\n",
       "3            politics\n",
       "4            politics\n",
       "            ...      \n",
       "1085           sports\n",
       "1087           travel\n",
       "1088       technology\n",
       "1089           sports\n",
       "1090         politics\n",
       "Name: category, Length: 973, dtype: object"
      ]
     },
     "metadata": {},
     "execution_count": 8
    }
   ],
   "source": [
    "df.category"
   ]
  },
  {
   "source": [
    "***\n",
    "## Add Sentiment"
   ],
   "cell_type": "markdown",
   "metadata": {}
  },
  {
   "cell_type": "code",
   "execution_count": 9,
   "metadata": {},
   "outputs": [],
   "source": [
    "from sentiment_analyser import Sentiment_Analyser\n",
    "\n",
    "sentiment_analyser = Sentiment_Analyser()\n",
    "\n",
    "df['sentiment'] = sentiment_analyser.pred(df.text.values)"
   ]
  },
  {
   "cell_type": "code",
   "execution_count": 10,
   "metadata": {},
   "outputs": [
    {
     "output_type": "execute_result",
     "data": {
      "text/plain": [
       "0       0\n",
       "1       0\n",
       "2       0\n",
       "3       0\n",
       "4       0\n",
       "       ..\n",
       "1085    0\n",
       "1087    0\n",
       "1088    0\n",
       "1089    0\n",
       "1090    0\n",
       "Name: sentiment, Length: 973, dtype: int64"
      ]
     },
     "metadata": {},
     "execution_count": 10
    }
   ],
   "source": [
    "df.sentiment"
   ]
  },
  {
   "source": [
    "***\n",
    "## Save to csv"
   ],
   "cell_type": "markdown",
   "metadata": {}
  },
  {
   "cell_type": "code",
   "execution_count": 11,
   "metadata": {},
   "outputs": [],
   "source": [
    "df.to_csv('news_actual_preprocessed.csv', index=False)"
   ]
  },
  {
   "cell_type": "code",
   "execution_count": null,
   "metadata": {},
   "outputs": [],
   "source": []
  }
 ]
}