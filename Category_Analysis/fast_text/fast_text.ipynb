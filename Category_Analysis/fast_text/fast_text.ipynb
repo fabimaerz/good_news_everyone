{
 "cells": [
  {
   "cell_type": "markdown",
   "metadata": {},
   "source": [
    "# Fast text\n",
    "Text classifier form facebook"
   ]
  },
  {
   "cell_type": "markdown",
   "metadata": {},
   "source": [
    "### Imports"
   ]
  },
  {
   "cell_type": "code",
   "execution_count": 1,
   "metadata": {},
   "outputs": [],
   "source": [
    "import numpy as np\n",
    "import pandas as pd\n",
    "import matplotlib.pyplot as plt\n",
    "import pickle\n",
    "import sys\n",
    "# Add functions path\n",
    "sys.path.append('../../Functions')\n",
    "from datasets import load_stratified_dataset\n",
    "from time import time"
   ]
  },
  {
   "cell_type": "markdown",
   "metadata": {},
   "source": [
    "***\n",
    "### Prepare balanced dataset"
   ]
  },
  {
   "cell_type": "code",
   "execution_count": 2,
   "metadata": {},
   "outputs": [
    {
     "output_type": "stream",
     "name": "stdout",
     "text": [
      "Smallest sample size in dataset is 12026 samples!\n",
      "# Observations in train set: 84181\n",
      "# Observations in test set : 3500\n"
     ]
    }
   ],
   "source": [
    "df_train = load_stratified_dataset(path='../../Datasets/dataset_categories/dataset_categories_train.csv', labels='category', samples_per_label=99000, random_seed=42)\n",
    "\n",
    "df_test = pd.read_csv('../../Datasets/dataset_categories/dataset_categories_test.csv')\n",
    "\n",
    "print('# Observations in train set: {}'.format(df_train.shape[0]))\n",
    "print('# Observations in test set : {}'.format(df_test.shape[0]))"
   ]
  },
  {
   "cell_type": "code",
   "execution_count": null,
   "metadata": {},
   "outputs": [],
   "source": []
  },
  {
   "cell_type": "code",
   "execution_count": 3,
   "metadata": {},
   "outputs": [],
   "source": [
    "import fasttext"
   ]
  },
  {
   "cell_type": "code",
   "execution_count": 4,
   "metadata": {},
   "outputs": [],
   "source": [
    "# Prepare train data\n",
    "label = ['__label__{}'.format(cat) for cat in df_train.category]\n",
    "text_lem = df_train.text_lem\n",
    "text = '\\n'.join('{} {}'.format(l, t) for l, t in zip(label, text_lem))\n",
    "\n",
    "# Save train data to txt file\n",
    "with open(\"train.txt\", \"w\") as txt_file:\n",
    "    txt_file.write(text)"
   ]
  },
  {
   "cell_type": "code",
   "execution_count": 5,
   "metadata": {},
   "outputs": [],
   "source": [
    "# Prepare test data\n",
    "label = ['__label__{}'.format(cat) for cat in df_test.category]\n",
    "text_lem = df_test.text_lem\n",
    "text = '\\n'.join('{} {}'.format(l, t) for l, t in zip(label, text_lem))\n",
    "\n",
    "# Save test data to txt file\n",
    "with open(\"test.txt\", \"w\") as txt_file:\n",
    "    txt_file.write(text)"
   ]
  },
  {
   "cell_type": "code",
   "execution_count": 6,
   "metadata": {},
   "outputs": [],
   "source": [
    "model = fasttext.train_supervised('train.txt')"
   ]
  },
  {
   "cell_type": "code",
   "execution_count": 7,
   "metadata": {},
   "outputs": [
    {
     "output_type": "stream",
     "name": "stdout",
     "text": [
      "N\t3500\nP@1\t0.761\nR@1\t0.761\n"
     ]
    }
   ],
   "source": [
    "def print_results(N, p, r):\n",
    "    print(\"N\\t\" + str(N))\n",
    "    print(\"P@{}\\t{:.3f}\".format(1, p))\n",
    "    print(\"R@{}\\t{:.3f}\".format(1, r))\n",
    "\n",
    "print_results(*model.test('test.txt'))"
   ]
  }
 ],
 "metadata": {
  "kernelspec": {
   "display_name": "Python 3",
   "language": "python",
   "name": "python3"
  },
  "language_info": {
   "codemirror_mode": {
    "name": "ipython",
    "version": 3
   },
   "file_extension": ".py",
   "mimetype": "text/x-python",
   "name": "python",
   "nbconvert_exporter": "python",
   "pygments_lexer": "ipython3",
   "version": "3.8.3-final"
  }
 },
 "nbformat": 4,
 "nbformat_minor": 4
}