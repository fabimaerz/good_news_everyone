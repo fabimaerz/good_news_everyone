{
  "nbformat": 4,
  "nbformat_minor": 0,
  "metadata": {
    "colab": {
      "name": "twitter-trends-to-gspread.ipynb",
      "provenance": []
    },
    "kernelspec": {
      "name": "python3",
      "display_name": "Python 3"
    },
    "accelerator": "GPU"
  },
  "cells": [
    {
      "cell_type": "markdown",
      "metadata": {
        "id": "XdUgFdBrKKxL"
      },
      "source": [
        "# Intro \n",
        "In this notebook the top 10 live trends from Twitter are used and stored in a Google spreadsheet.\n"
      ]
    },
    {
      "cell_type": "markdown",
      "metadata": {
        "id": "4EteGxOHKE3Q"
      },
      "source": [
        "# Imports & Installs "
      ]
    },
    {
      "cell_type": "code",
      "metadata": {
        "id": "sQs4WlUtj8nV"
      },
      "source": [
        "#!pip install tweepy\n",
        "#!pip install -U gspread"
      ],
      "execution_count": 1,
      "outputs": []
    },
    {
      "cell_type": "code",
      "metadata": {
        "id": "SECLp311j2Ls"
      },
      "source": [
        "import numpy as np \n",
        "import pandas as pd\n",
        "import tweepy\n",
        "import gspread\n",
        "from gspread_dataframe import set_with_dataframe\n",
        "from datetime import datetime"
      ],
      "execution_count": null,
      "outputs": []
    },
    {
      "cell_type": "markdown",
      "metadata": {
        "id": "m7iY81zFLoAd"
      },
      "source": [
        "# Inputs"
      ]
    },
    {
      "cell_type": "code",
      "metadata": {
        "id": "O_ikpwsTLd0U"
      },
      "source": [
        "# Twitter Developer keys here\n",
        "consumer_key = 'yyy'\n",
        "consumer_key_secret = 'xxx'\n",
        "access_token = 'zzz'\n",
        "access_token_secret = 'qqq'\n",
        "\n",
        "# Location code (here for USA)\n",
        "location_code = 23424977 \n",
        "\n",
        "# GSPREAD Details \n",
        "gs_read = \"csv input here\" # Format: https://docs.google.com/spreadsheets/d/yyyyyy-xxxxxxxxxxxxxx/export?gid=0&format=csv\n",
        "\n",
        "gc = gspread.service_account(filename='appname-yyyy-xxxxxxxx.json') # Filename of the json file with the credentials from google api\n",
        "sh = gc.open_by_key('yyyyyy-xxxxxxxxxxxxxx') # Spreadsheet key -> from the url above (yyyyyy-xxxxxxxxxxxxxx)\n",
        "worksheet = sh.get_worksheet(0) # 0 = first sheet, 1 = second sheet etc. "
      ],
      "execution_count": null,
      "outputs": []
    },
    {
      "cell_type": "markdown",
      "metadata": {
        "id": "U_D8bs8wRAEA"
      },
      "source": [
        "# Workflow\n"
      ]
    },
    {
      "cell_type": "code",
      "metadata": {
        "id": "Hz9xdjKILl5o"
      },
      "source": [
        "# Twitter API setup \n",
        "auth = tweepy.OAuthHandler(consumer_key, consumer_key_secret)\n",
        "auth.set_access_token(access_token, access_token_secret)\n",
        "api = tweepy.API(auth, wait_on_rate_limit=True)\n",
        "\n",
        "# Get the Trends (limit to 10)\n",
        "data = api.trends_place(location_code)\n",
        "trends = data[0][\"trends\"]\n",
        "trend_names = '\\n'.join(trend['name'] for trend in trends[0:10])\n",
        "\n",
        "# Get current time to save it in the dataframe/csv\n",
        "now = datetime.now()\n",
        "dt_string = now.strftime(\"%d/%m/%Y %H:%M:%S\") # Format: dd/mm/YY H:M:S\n",
        "\n",
        "df = pd.DataFrame({\"trends\": [trend['name'] for trend in trends], \"tweet_volume\": [trend['tweet_volume'] for trend in trends], \"date_time\": dt_string})\n",
        "df_sort = df.sort_values(by=\"tweet_volume\", ascending=False, ignore_index=True)[:10] # Get the top 10 trends \n",
        "\n",
        "df_dl = pd.read_csv(gs_read) # load the actual csv to get the shape later on \n",
        "\n",
        "# Append the data to the spreadsheet\n",
        "r_count = df_dl.shape[0] + 2 # to append to the last row - prevents overwriting \n",
        "set_with_dataframe(worksheet, df_sort, row=r_count, include_column_header=False) # Save the dataframe in the google spreadsheet"
      ],
      "execution_count": null,
      "outputs": []
    }
  ]
}